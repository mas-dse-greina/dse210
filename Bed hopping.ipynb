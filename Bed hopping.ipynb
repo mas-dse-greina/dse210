{
 "cells": [
  {
   "cell_type": "markdown",
   "metadata": {},
   "source": [
    "# DSE210 Worksheet 4 Question 6\n",
    "https://drive.google.com/file/d/0BxK4UNZY50IFNVRRRG5iVnNMbE5MVWpnZ2t6NDBlYXd2M3dj/view\n",
    "\n",
    "> There is a dormitory with n beds for n students. One night the power goes out, and because it is dark, each student gets into a bed chosen uniformly at random. What is the expected number of students who end up in their own bed?\n",
    "\n",
    "I had trouble believing the analytical solution that only 1 student would be expected to find their original bed. So-- armed with the power of Python-- I figured I would code it and see if a Monte Carlo would come up with the same answer."
   ]
  },
  {
   "cell_type": "code",
   "execution_count": 13,
   "metadata": {
    "collapsed": true
   },
   "outputs": [],
   "source": [
    "import numpy as np"
   ]
  },
  {
   "cell_type": "code",
   "execution_count": 14,
   "metadata": {
    "collapsed": false
   },
   "outputs": [],
   "source": [
    "from numpy.random import permutation"
   ]
  },
  {
   "cell_type": "code",
   "execution_count": 15,
   "metadata": {
    "collapsed": true
   },
   "outputs": [],
   "source": [
    "NUM_BEDS = 20   # Number of people/Number of beds\n",
    "NUM_TRIALS = 10000  # Number of times to rerun the experiment"
   ]
  },
  {
   "cell_type": "code",
   "execution_count": 16,
   "metadata": {
    "collapsed": false
   },
   "outputs": [],
   "source": [
    "originalBeds = range(1,NUM_BEDS)"
   ]
  },
  {
   "cell_type": "code",
   "execution_count": 19,
   "metadata": {
    "collapsed": false
   },
   "outputs": [],
   "source": [
    "beds = np.matrix(permutation(originalBeds))"
   ]
  },
  {
   "cell_type": "code",
   "execution_count": 20,
   "metadata": {
    "collapsed": false
   },
   "outputs": [],
   "source": [
    "for i in range(NUM_TRIALS):\n",
    "    newBeds = permutation(originalBeds)\n",
    "    beds = np.append(beds, np.matrix(newBeds), axis=0)"
   ]
  },
  {
   "cell_type": "code",
   "execution_count": 21,
   "metadata": {
    "collapsed": false
   },
   "outputs": [
    {
     "data": {
      "text/plain": [
       "matrix([[15,  2, 11, ...,  4, 10, 14],\n",
       "        [ 4,  2, 18, ..., 19,  3, 16],\n",
       "        [13,  1,  3, ...,  2, 11, 15],\n",
       "        ..., \n",
       "        [ 7,  6, 15, ...,  8, 16,  2],\n",
       "        [ 6,  4, 18, ..., 13,  2, 11],\n",
       "        [ 8,  7,  3, ...,  4, 19, 11]])"
      ]
     },
     "execution_count": 21,
     "metadata": {},
     "output_type": "execute_result"
    }
   ],
   "source": [
    "beds"
   ]
  },
  {
   "cell_type": "code",
   "execution_count": 22,
   "metadata": {
    "collapsed": false
   },
   "outputs": [],
   "source": [
    "foundOwnBed = ((beds - originalBeds) == 0) "
   ]
  },
  {
   "cell_type": "code",
   "execution_count": 23,
   "metadata": {
    "collapsed": false
   },
   "outputs": [],
   "source": [
    "numFound = np.ravel((np.squeeze(foundOwnBed.sum(axis=1)))) # Sum per trial of how many students found their original bed"
   ]
  },
  {
   "cell_type": "code",
   "execution_count": 24,
   "metadata": {
    "collapsed": false
   },
   "outputs": [
    {
     "data": {
      "text/plain": [
       "array([3, 1, 5, ..., 0, 1, 1])"
      ]
     },
     "execution_count": 24,
     "metadata": {},
     "output_type": "execute_result"
    }
   ],
   "source": [
    "numFound"
   ]
  },
  {
   "cell_type": "code",
   "execution_count": 25,
   "metadata": {
    "collapsed": false
   },
   "outputs": [
    {
     "name": "stdout",
     "output_type": "stream",
     "text": [
      "On average 1.0061993800619937 person(s) found their original bed.\n"
     ]
    }
   ],
   "source": [
    "averageFoundBed = np.mean(numFound)\n",
    "print(\"On average {} person(s) found their original bed.\".format(averageFoundBed))"
   ]
  },
  {
   "cell_type": "code",
   "execution_count": null,
   "metadata": {
    "collapsed": true
   },
   "outputs": [],
   "source": []
  }
 ],
 "metadata": {
  "anaconda-cloud": {},
  "kernelspec": {
   "display_name": "Python [default]",
   "language": "python",
   "name": "python3"
  },
  "language_info": {
   "codemirror_mode": {
    "name": "ipython",
    "version": 3
   },
   "file_extension": ".py",
   "mimetype": "text/x-python",
   "name": "python",
   "nbconvert_exporter": "python",
   "pygments_lexer": "ipython3",
   "version": "3.5.2"
  }
 },
 "nbformat": 4,
 "nbformat_minor": 1
}
