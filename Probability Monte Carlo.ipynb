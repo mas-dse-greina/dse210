{
 "cells": [
  {
   "cell_type": "markdown",
   "metadata": {},
   "source": [
    "# A Monte Carlo approach to Question 10 (Worksheet 2)\n",
    "\n",
    "> A certain lottery has the following rules: you buy a ticket, choose 3 diﬀerent numbers from 1 to 100, and write them on the ticket. The lottery has a box with 100 balls numbered 1 to 100. Three (diﬀerent) balls are chosen. If **any** of the balls has one of the numbers you have chosen, you win. What is the probability of winning?\n"
   ]
  },
  {
   "cell_type": "code",
   "execution_count": 1,
   "metadata": {
    "collapsed": false
   },
   "outputs": [],
   "source": [
    "maxNum = 100   # Lottery numbers are 1 to 100 without replacement\n",
    "maxPick = 3    # We can pick 3 numbers without replacement (so it's a group of 3 different numbers)"
   ]
  },
  {
   "cell_type": "markdown",
   "metadata": {},
   "source": [
    "## Here's the Monte Carlo\n",
    "\n",
    "I'll pick 3 numbers from 1 to 100. Computer does the same. If any of my numbers equals the computer's then I win. Repeat this game 1 million times. It should approach the theoretical value for the probability of the average game played."
   ]
  },
  {
   "cell_type": "code",
   "execution_count": 2,
   "metadata": {
    "collapsed": false
   },
   "outputs": [],
   "source": [
    "import random  # Get Python's random number generator"
   ]
  },
  {
   "cell_type": "code",
   "execution_count": 3,
   "metadata": {
    "collapsed": false
   },
   "outputs": [
    {
     "data": {
      "text/plain": [
       "[6, 45, 11]"
      ]
     },
     "execution_count": 3,
     "metadata": {},
     "output_type": "execute_result"
    }
   ],
   "source": [
    "list_of_random_items = random.sample(range(1,maxNum+1), maxPick)\n",
    "list_of_random_items  # Just showing it is selecting a random 3 numbers from 1-100"
   ]
  },
  {
   "cell_type": "code",
   "execution_count": 4,
   "metadata": {
    "collapsed": false
   },
   "outputs": [
    {
     "data": {
      "text/plain": [
       "[9, 91, 46]"
      ]
     },
     "execution_count": 4,
     "metadata": {},
     "output_type": "execute_result"
    }
   ],
   "source": [
    "list_of_random_items = random.sample(range(1,maxNum+1), maxPick)\n",
    "list_of_random_items   # Each call gives a different number. Order doesn't matter (combination)"
   ]
  },
  {
   "cell_type": "code",
   "execution_count": 6,
   "metadata": {
    "collapsed": false
   },
   "outputs": [],
   "source": [
    "winners = 0.0  # Start with 0 wins\n",
    "trials = 0.0   # Start with 0 attempts at playing the lottery\n",
    "for i in range(1,1000001):  # 1 to 1 million\n",
    "    \n",
    "    computer = set(random.sample(range(1,maxNum+1), maxPick)) # computer picks a random set of 3 numbers between 1 and 100\n",
    "    me = set(random.sample(range(1,maxNum+1), maxPick))       # I pick a random set of 3 numbers between 1 and 100\n",
    "    \n",
    "    if len(me.intersection(computer)) > 0: # Check if any of my # intersects (equals) the computer's\n",
    "        winners += 1.   # At least one of our numbers matches computer's pick. So we win.  \n",
    "        \n",
    "    trials += 1.   # Add 1 to the number of times we've played this lottery\n",
    "    "
   ]
  },
  {
   "cell_type": "code",
   "execution_count": 7,
   "metadata": {
    "collapsed": false
   },
   "outputs": [
    {
     "data": {
      "text/plain": [
       "88509.0"
      ]
     },
     "execution_count": 7,
     "metadata": {},
     "output_type": "execute_result"
    }
   ],
   "source": [
    "winners   # How many times we picked at least one of the same numbers as the computer"
   ]
  },
  {
   "cell_type": "code",
   "execution_count": 8,
   "metadata": {
    "collapsed": false
   },
   "outputs": [
    {
     "data": {
      "text/plain": [
       "1000000.0"
      ]
     },
     "execution_count": 8,
     "metadata": {},
     "output_type": "execute_result"
    }
   ],
   "source": [
    "trials    # How many times we played this lottery"
   ]
  },
  {
   "cell_type": "code",
   "execution_count": 9,
   "metadata": {
    "collapsed": false
   },
   "outputs": [
    {
     "name": "stdout",
     "output_type": "stream",
     "text": [
      "Here's the average probability of winning: 0.0885090000\n"
     ]
    }
   ],
   "source": [
    "print('Here\\'s the average probability of winning: {:.10f}'.format(winners/trials))"
   ]
  },
  {
   "cell_type": "markdown",
   "metadata": {},
   "source": [
    "## Probability of winning is the probability of hitting **any** of the 3 numbers\n",
    "### *N.B.* It's the \"any\" part that you have to focus on. That means it is a set union (an \"or\"-- addition of probabilities), not a set intersection (an \"and\" -- multiplication of probabilities).\n",
    "\n",
    "So this is a union of 3 sets: win by 1st pick (set A) *OR* win by 2nd pick (set B) *OR* win by 3rd pick (set C). That it, I can win just **any** of the following cases: one of my picks is correct, two of my picks are correct, or all 3 of my picks are correct. All of these outcomes have the same payout. In set theory, this would be written: <br><br>\n",
    "$$P(A \\cup B\\cup C)$$\n",
    "\n",
    "![Union of 3 diagram](union3.png)\n",
    "\n",
    "Note that the probabilities are slightly different for A, B, C because of the two conditions: \n",
    "\n",
    "1. The number can only be picked once. So we can't get (15, 15, 100) or (93, 10, 93). All 3 numbers must be different. So with each pick, our possible set of numbers reduces by 1 (100 choices on pick 1, 99 on pick 2, and 98 on pick 3).\n",
    "2. If our number on any pick matches any of the 3 numbers the computer picked, then we win. So the probability for each pick (A, B, C) increases 3 times.\n",
    "\n",
    "The first pick is a $\\frac{1}{100}$ chance of getting the number-- I pick 1 of a set of 100 numbers. However, I get 3 chances of being correct since the lottery says that if I match any of the computer's 3 numbers then I win. So $P(A) = 3 \\times \\frac{1}{100} = \\frac{3}{100}$. The second is a $\\frac{1}{99}$ chance (since I've removed one number from the set of 100 in the first pick). Again, I get 3 chances to win this (assuming I didn't win on the first pick). So $P(B) = 3 \\times \\frac{1}{99} = \\frac{3}{99}$. The third is a $\\frac{1}{98}$ chance (since I've removed two numbers from the set of 100 in the first two picks). Yet again, I have 3 chances to win in this set of 98 (assuming that I didn't win in the first two picks). So $P(C) = 3 \\times \\frac{1}{98} = \\frac{3}{98}$."
   ]
  },
  {
   "cell_type": "code",
   "execution_count": 10,
   "metadata": {
    "collapsed": false
   },
   "outputs": [],
   "source": [
    "pA = (3./100)   # There are 3 ways to win in the 100 numbers for pick #1\n",
    "pB = (3./99)    # There are 3 ways to win in the 99 numbers left for pick #2\n",
    "pC = (3./98)    # There are 3 ways to win in the 98 numbers left for pick #3\n",
    "\n",
    "pAB = pA*pB\n",
    "pAC = pA*pC\n",
    "pBC = pB*pC\n",
    "\n",
    "pABC = pA*pB*pC"
   ]
  },
  {
   "cell_type": "code",
   "execution_count": 11,
   "metadata": {
    "collapsed": false
   },
   "outputs": [
    {
     "name": "stdout",
     "output_type": "stream",
     "text": [
      "Theoretical average probability of winning = 0.088188002473716762\n"
     ]
    },
    {
     "data": {
      "text/plain": [
       "0.08818800247371676"
      ]
     },
     "execution_count": 11,
     "metadata": {},
     "output_type": "execute_result"
    }
   ],
   "source": [
    "# From the Venn diagram, we see that  the probability of the union is\n",
    "# just the addition of all 3 probabilities minus the intersections.\n",
    "# The intersections occur twice (AB, AC, BC). However, when we subtract those intersections, we lose the ABC intersection\n",
    "# because we've done 3 subtractions with that section.Therefore, we need to add that intersection back in.\n",
    "prob = pA + pB + pC - pAB - pAC - pBC + pABC\n",
    "print('Theoretical average probability of winning = {:.18f}'.format(prob))\n",
    "prob"
   ]
  },
  {
   "cell_type": "markdown",
   "metadata": {},
   "source": [
    "## Easier theory\n",
    "### Sometimes it is easier to solve the opposite case (what's the chance of losing) and work backward.\n",
    "\n",
    "The only way we lose is if **ALL** 3 numbers are wrong. So what's the probability of losing? Then subtract that from 1.0 to get the probability of winning.\n",
    "\n",
    "$$Pr(\\text{winning}) = 1.0 - \\left ( \\frac{(100-3) \\ \\text{losers}}{100 \\ \\text{picks}} \\times \\frac{(99-3) \\ \\text{losers}}{99 \\ \\text{picks}} \\times \\frac{(98-3) \\ \\text{losers}}{98 \\ \\text{picks}} \\right ) = 1.0 - \\left ( \\frac{97 \\ \\text{losers}}{100 \\ \\text{picks}} \\times \\frac{96 \\ \\text{losers}}{99 \\ \\text{picks}} \\times \\frac{95 \\ \\text{losers}}{98 \\ \\text{picks}} \\right )$$\n",
    "\n",
    "So 99 ways to be wrong on the first pick (out of 100 choices). 98 ways to be wrong (out of 99 numbers left after the first pick) on the second. And, 97 ways to be wrong (out of 98 left) on the third pick."
   ]
  },
  {
   "cell_type": "code",
   "execution_count": 12,
   "metadata": {
    "collapsed": false
   },
   "outputs": [
    {
     "name": "stdout",
     "output_type": "stream",
     "text": [
      "0.088188002473716831\n"
     ]
    }
   ],
   "source": [
    "print('{:.18f}'.format(1-((100-3)/100 * ((99-3)/99) * ((98-3)/98))))"
   ]
  },
  {
   "cell_type": "markdown",
   "metadata": {},
   "source": [
    "## I'm guessing that any differences in the results are due to floating point errors. Computers don't do very well past a certain accuracy."
   ]
  },
  {
   "cell_type": "code",
   "execution_count": null,
   "metadata": {
    "collapsed": false
   },
   "outputs": [],
   "source": []
  },
  {
   "cell_type": "code",
   "execution_count": null,
   "metadata": {
    "collapsed": true
   },
   "outputs": [],
   "source": []
  }
 ],
 "metadata": {
  "anaconda-cloud": {},
  "kernelspec": {
   "display_name": "Python [default]",
   "language": "python",
   "name": "python3"
  },
  "language_info": {
   "codemirror_mode": {
    "name": "ipython",
    "version": 3
   },
   "file_extension": ".py",
   "mimetype": "text/x-python",
   "name": "python",
   "nbconvert_exporter": "python",
   "pygments_lexer": "ipython3",
   "version": "3.5.2"
  }
 },
 "nbformat": 4,
 "nbformat_minor": 1
}
