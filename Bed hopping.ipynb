{
 "cells": [
  {
   "cell_type": "markdown",
   "metadata": {},
   "source": [
    "# DSE210 Worksheet 4 Question 6\n",
    "https://drive.google.com/file/d/0BxK4UNZY50IFNVRRRG5iVnNMbE5MVWpnZ2t6NDBlYXd2M3dj/view\n",
    "\n",
    "> There is a dormitory with n beds for n students. One night the power goes out, and because it is dark, each student gets into a bed chosen uniformly at random. What is the expected number of students who end up in their own bed?\n",
    "\n",
    "I had trouble believing the analytical solution that only 1 student would be expected to find their original bed. So-- armed with the power of Python-- I figured I would code it and see if a Monte Carlo would come up with the same answer."
   ]
  },
  {
   "cell_type": "code",
   "execution_count": 1,
   "metadata": {
    "collapsed": true
   },
   "outputs": [],
   "source": [
    "import numpy as np"
   ]
  },
  {
   "cell_type": "code",
   "execution_count": 2,
   "metadata": {
    "collapsed": false
   },
   "outputs": [],
   "source": [
    "from numpy.random import permutation"
   ]
  },
  {
   "cell_type": "code",
   "execution_count": 3,
   "metadata": {
    "collapsed": true
   },
   "outputs": [],
   "source": [
    "NUM_BEDS = 20   # Number of people/Number of beds\n",
    "NUM_TRIALS = 100000  # Number of times to rerun the experiment"
   ]
  },
  {
   "cell_type": "code",
   "execution_count": 4,
   "metadata": {
    "collapsed": false
   },
   "outputs": [],
   "source": [
    "originalBeds = np.array(range(1,NUM_BEDS))"
   ]
  },
  {
   "cell_type": "code",
   "execution_count": 5,
   "metadata": {
    "collapsed": false
   },
   "outputs": [],
   "source": [
    "beds = np.matrix(originalBeds)"
   ]
  },
  {
   "cell_type": "code",
   "execution_count": 6,
   "metadata": {
    "collapsed": false
   },
   "outputs": [],
   "source": [
    "for i in range(NUM_TRIALS):\n",
    "    newBeds = permutation(originalBeds)\n",
    "    beds = np.append(beds, np.matrix(newBeds), axis=0)"
   ]
  },
  {
   "cell_type": "code",
   "execution_count": 7,
   "metadata": {
    "collapsed": false
   },
   "outputs": [
    {
     "data": {
      "text/plain": [
       "matrix([[ 1,  2,  3, ..., 17, 18, 19],\n",
       "        [14,  5, 19, ..., 16,  8, 12],\n",
       "        [ 5, 13, 19, ..., 14,  8,  4],\n",
       "        ..., \n",
       "        [ 6, 16, 17, ..., 11,  1,  5],\n",
       "        [13, 12,  8, ...,  9, 10, 14],\n",
       "        [ 5, 10, 12, ..., 16,  4, 18]])"
      ]
     },
     "execution_count": 7,
     "metadata": {},
     "output_type": "execute_result"
    }
   ],
   "source": [
    "beds"
   ]
  },
  {
   "cell_type": "code",
   "execution_count": 8,
   "metadata": {
    "collapsed": false
   },
   "outputs": [],
   "source": [
    "foundOwnBed = (beds  - np.array(range(1,NUM_BEDS)) == 0) "
   ]
  },
  {
   "cell_type": "code",
   "execution_count": 9,
   "metadata": {
    "collapsed": false
   },
   "outputs": [],
   "source": [
    "numFound = np.ravel((np.squeeze(foundOwnBed.sum(axis=1)))) # Sum per trial of how many students found their original bed"
   ]
  },
  {
   "cell_type": "code",
   "execution_count": 10,
   "metadata": {
    "collapsed": false
   },
   "outputs": [
    {
     "data": {
      "text/plain": [
       "array([19,  1,  0, ...,  1,  0,  0])"
      ]
     },
     "execution_count": 10,
     "metadata": {},
     "output_type": "execute_result"
    }
   ],
   "source": [
    "numFound"
   ]
  },
  {
   "cell_type": "code",
   "execution_count": 11,
   "metadata": {
    "collapsed": false
   },
   "outputs": [
    {
     "name": "stdout",
     "output_type": "stream",
     "text": [
      "On average 1.005089949100509 person(s) found their original bed.\n"
     ]
    }
   ],
   "source": [
    "averageFoundBed = np.mean(numFound)\n",
    "print(\"On average {} person(s) found their original bed.\".format(averageFoundBed))"
   ]
  },
  {
   "cell_type": "code",
   "execution_count": null,
   "metadata": {
    "collapsed": true
   },
   "outputs": [],
   "source": []
  }
 ],
 "metadata": {
  "anaconda-cloud": {},
  "kernelspec": {
   "display_name": "Python [default]",
   "language": "python",
   "name": "python3"
  },
  "language_info": {
   "codemirror_mode": {
    "name": "ipython",
    "version": 3
   },
   "file_extension": ".py",
   "mimetype": "text/x-python",
   "name": "python",
   "nbconvert_exporter": "python",
   "pygments_lexer": "ipython3",
   "version": "3.5.2"
  }
 },
 "nbformat": 4,
 "nbformat_minor": 1
}
