{
 "cells": [
  {
   "cell_type": "markdown",
   "metadata": {},
   "source": [
    "# A Monte Carlo approach to Question 10 (Worksheet 2)"
   ]
  },
  {
   "cell_type": "code",
   "execution_count": 1,
   "metadata": {
    "collapsed": false
   },
   "outputs": [
    {
     "name": "stdout",
     "output_type": "stream",
     "text": [
      "Order does matter: Number of unique permutations of 3 numbers from 1 to 100 = 970,200\n",
      "Order doesn't matter: Number of combinations of 3 numbers from 1 to 100 = 161,700\n"
     ]
    }
   ],
   "source": [
    "from math import factorial\n",
    "\n",
    "maxNum = 100   # Lottery numbers are 1 to 100 without replacement\n",
    "maxPick = 3    # We can pick 3 numbers without replacement\n",
    "\n",
    "numPerms = factorial(maxNum) / (factorial(maxNum-maxPick))  # (100, 2, 23) is not the same as (2, 100, 23)\n",
    "print('Order does matter: Number of unique permutations of {:d} numbers from 1 to {:d} = {:,.0f}'.format(maxPick, maxNum, numPerms))\n",
    "\n",
    "numCombs = factorial(maxNum) / (factorial(maxPick)*(factorial(maxNum-maxPick))) # (100, 2, 23) is the same as (2, 100, 23)\n",
    "print('Order doesn\\'t matter: Number of combinations of {:d} numbers from 1 to {:d} = {:,.0f}'.format(maxPick, maxNum, numCombs))\n",
    "\n",
    "# Sanity check: Make sure # perms is greater than # combos\n",
    "assert numPerms > numCombs, 'ERROR: # permutations must be always than # combinations'"
   ]
  },
  {
   "cell_type": "markdown",
   "metadata": {},
   "source": [
    "# Here's the Monte Carlo\n",
    "\n",
    "I'll pick 3 numbers from 1 to 100. Computer does the same. If any of my numbers equals the computer's then I win. Repeat this game 1 million times. It should approach the theoretical value for the probability of the average game played."
   ]
  },
  {
   "cell_type": "code",
   "execution_count": 2,
   "metadata": {
    "collapsed": false
   },
   "outputs": [],
   "source": [
    "import random"
   ]
  },
  {
   "cell_type": "code",
   "execution_count": 3,
   "metadata": {
    "collapsed": false
   },
   "outputs": [
    {
     "data": {
      "text/plain": [
       "[92, 84, 12]"
      ]
     },
     "execution_count": 3,
     "metadata": {},
     "output_type": "execute_result"
    }
   ],
   "source": [
    "list_of_random_items = random.sample(range(1,maxNum+1), maxPick)\n",
    "list_of_random_items"
   ]
  },
  {
   "cell_type": "code",
   "execution_count": 4,
   "metadata": {
    "collapsed": false
   },
   "outputs": [
    {
     "data": {
      "text/plain": [
       "[2, 41, 77]"
      ]
     },
     "execution_count": 4,
     "metadata": {},
     "output_type": "execute_result"
    }
   ],
   "source": [
    "list_of_random_items = random.sample(range(1,maxNum+1), maxPick)\n",
    "list_of_random_items"
   ]
  },
  {
   "cell_type": "code",
   "execution_count": 5,
   "metadata": {
    "collapsed": false
   },
   "outputs": [],
   "source": [
    "winners = 0.0\n",
    "trials = 0.0\n",
    "for i in range(1,1000001):  # 1 to 1 million\n",
    "    \n",
    "    computer = random.sample(range(1,maxNum+1), maxPick)\n",
    "    me = random.sample(range(1,maxNum+1), maxPick)\n",
    "    \n",
    "    if any(i == j for i, j in zip(computer, me)):  # Check if any of my # equals the computer's\n",
    "        winners += 1\n",
    "        \n",
    "    trials += 1\n",
    "    "
   ]
  },
  {
   "cell_type": "code",
   "execution_count": 6,
   "metadata": {
    "collapsed": false
   },
   "outputs": [
    {
     "data": {
      "text/plain": [
       "29360.0"
      ]
     },
     "execution_count": 6,
     "metadata": {},
     "output_type": "execute_result"
    }
   ],
   "source": [
    "winners"
   ]
  },
  {
   "cell_type": "code",
   "execution_count": 7,
   "metadata": {
    "collapsed": false
   },
   "outputs": [
    {
     "data": {
      "text/plain": [
       "1000000.0"
      ]
     },
     "execution_count": 7,
     "metadata": {},
     "output_type": "execute_result"
    }
   ],
   "source": [
    "trials"
   ]
  },
  {
   "cell_type": "code",
   "execution_count": 8,
   "metadata": {
    "collapsed": false
   },
   "outputs": [
    {
     "name": "stdout",
     "output_type": "stream",
     "text": [
      "Here's the average probability of winning: 0.0293600\n"
     ]
    }
   ],
   "source": [
    "print('Here\\'s the average probability of winning: {:.7f}'.format(winners/trials))"
   ]
  },
  {
   "cell_type": "code",
   "execution_count": null,
   "metadata": {
    "collapsed": true
   },
   "outputs": [],
   "source": []
  }
 ],
 "metadata": {
  "anaconda-cloud": {},
  "kernelspec": {
   "display_name": "Python [default]",
   "language": "python",
   "name": "python3"
  },
  "language_info": {
   "codemirror_mode": {
    "name": "ipython",
    "version": 3
   },
   "file_extension": ".py",
   "mimetype": "text/x-python",
   "name": "python",
   "nbconvert_exporter": "python",
   "pygments_lexer": "ipython3",
   "version": "3.5.2"
  }
 },
 "nbformat": 4,
 "nbformat_minor": 1
}
